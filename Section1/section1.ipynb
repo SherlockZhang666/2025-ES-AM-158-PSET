{
 "cells": [
  {
   "cell_type": "markdown",
   "id": "18b3a86d",
   "metadata": {},
   "source": [
    "\n",
    "# Jupyter Notebook: Basics\n",
    "\n",
    "A quick, practical introduction to the **classic Jupyter Notebook** interface and basic Python coding.\n"
   ]
  },
  {
   "cell_type": "markdown",
   "id": "a866ce49",
   "metadata": {},
   "source": [
    "\n",
    "## What is Jupyter Notebook?\n",
    "\n",
    "### Short answer: **Python + Markdown** + images / plot / gif ...\n",
    "\n",
    "Jupyter Notebook is an incredibly powerful tool for interactively developing and presenting data science projects. It combines code, visualizations, narrative text, and other rich media into a single document, creating a cohesive and expressive workflow.\n",
    "\n",
    "- An interactive document mixing **code** and **text** (Markdown) saved as `*.ipynb`.\n",
    "- Run code in **cells** and see the **output** right below.\n",
    "- Perfect for learning, prototyping, and explaining ideas.\n"
   ]
  },
  {
   "cell_type": "markdown",
   "id": "01d22085",
   "metadata": {},
   "source": [
    "\n",
    "## What is `.ipynb` file?\n",
    "\n",
    "Each .ipynb file is a text file that describes the contents of your notebook in a format called JSON (https://en.wikipedia.org/wiki/JSON) . Each cell and its contents, including image attachments has been recorded there.\n"
   ]
  },
  {
   "cell_type": "markdown",
   "id": "c6c8c273",
   "metadata": {},
   "source": [
    "## Cells: \n",
    "**Cell types:** Code vs Markdown (select in the toolbar or use shortcuts)."
   ]
  },
  {
   "cell_type": "code",
   "execution_count": 1,
   "id": "3e5a9cf0",
   "metadata": {},
   "outputs": [],
   "source": [
    "# This is a code cell"
   ]
  },
  {
   "cell_type": "markdown",
   "id": "f05548c5",
   "metadata": {},
   "source": [
    "This is a Markdown cell"
   ]
  },
  {
   "cell_type": "markdown",
   "id": "f5a63f20",
   "metadata": {},
   "source": [
    "Type `print('Hello World!')` into that first cell and click the Run button in the toolbar above or press Ctrl + Enter on your keyboard.\n",
    "**Run a cell:** `Shift+Enter` (run & go next), `Ctrl/Command+Enter` (run & stay)."
   ]
  },
  {
   "cell_type": "code",
   "execution_count": 2,
   "id": "d976d7d1",
   "metadata": {},
   "outputs": [
    {
     "name": "stdout",
     "output_type": "stream",
     "text": [
      "Hello, World!\n"
     ]
    }
   ],
   "source": [
    "print('Hello, World!')"
   ]
  },
  {
   "cell_type": "markdown",
   "id": "fc7176f7",
   "metadata": {},
   "source": [
    "## Markdown Basics\n",
    "Markdown is a lightweight, easy to learn markup language for formatting plain text. Its syntax has a one-to-one correspondence with HTML tags, so some prior knowledge here would be helpful but is definitely not a prerequisite.\n",
    "\n",
    "Remember that this article was written in a Jupyter notebook, so all of the narrative text and images you have seen so far were achieved writing in Markdown. Let’s cover the basics with a quick example:"
   ]
  },
  {
   "cell_type": "markdown",
   "id": "c88d72c6",
   "metadata": {},
   "source": [
    "# This is a level 1 heading\n",
    "\n",
    "## This is a level 2 heading\n",
    "\n",
    "This is some plain text that forms a paragraph. Add emphasis via **bold** or __bold__, and *italic* or _italic_.\n",
    "\n",
    "Paragraphs must be separated by an empty line.\n",
    "\n",
    "* Sometimes we want to include lists.\n",
    "* Which can be bulleted using asterisks.\n",
    "\n",
    "1. Lists can also be numbered.\n",
    "2. If we want an ordered list.\n",
    "\n",
    "- list1\n",
    "- list2\n",
    "  - sublist\n",
    "\n",
    "[It is possible to include hyperlinks](https://hankyang.seas.harvard.edu/OptimalControlReinforcementLearning/)\n",
    "\n",
    "Inline code uses single backticks: `foo()`, and code blocks use triple backticks:\n",
    "```\n",
    "bar()\n",
    "```\n",
    "Or can be indented by 4 spaces:\n",
    "```\n",
    "    foo()\n",
    "```"
   ]
  },
  {
   "cell_type": "markdown",
   "id": "643b28b4",
   "metadata": {},
   "source": [
    "### Math symbols\n",
    "- **Inline math:** `$a^2 + b^2 = c^2$` → $a^2 + b^2 = c^2$\n",
    "- **Display math:** `$$\\sum_{i=1}^n i = \\frac{n(n+1)}{2}$$`\n",
    "\n",
    "#### superscript and subscript\n",
    "- Powers / indices: `$x_i^2,\\; a_{ij},\\; x^{(k)}_t$` → $x_i^2,\\; a_{ij},\\; x^{(k)}_t$\n",
    "- Decorations: `$\\hat{x},\\ \\tilde{x},\\ \\bar{x}$` → $\\hat{x},\\ \\tilde{x},\\ \\bar{x}$\n",
    "- Transpose, star, dagger: `$v^\\top,\\ A^\\*,\\ M^\\dagger$` → $v^\\top,\\ A^\\star,\\ M^\\dagger$\n",
    "\n",
    "**Examples**\n",
    "$$\n",
    "y = \\sum_{i=1}^n w_i x_i,\\qquad\n",
    "A_{ij} = i^2 + j^2\n",
    "$$\n",
    "\n",
    "\n",
    "#### function, gradient, Hessian\n",
    "- Function mapping: `$f:\\mathbb{R}^n \\to \\mathbb{R}$` → $f:\\mathbb{R}^n \\to \\mathbb{R}$\n",
    "- Gradient: `$\\nabla f(x)$`, partials: `$\\frac{\\partial f}{\\partial x_i}$`\n",
    "- Hessian: `$\\nabla^2 f(x)$`, entries: `$\\frac{\\partial^2 f}{\\partial x_i \\partial x_j}$`\n",
    "\n",
    "**Vector / matrix forms**\n",
    "$$\n",
    "\\mathbf{x} = \\begin{bmatrix} x_1\\\\ \\vdots\\\\ x_n \\end{bmatrix},\\quad\n",
    "\\nabla f(\\mathbf{x}) = \\begin{bmatrix}\n",
    "\\frac{\\partial f}{\\partial x_1} \\\\ \\vdots \\\\ \\frac{\\partial f}{\\partial x_n}\n",
    "\\end{bmatrix},\\quad\n",
    "\\nabla^2 f(\\mathbf{x}) = \\begin{bmatrix}\n",
    "\\frac{\\partial^2 f}{\\partial x_1^2} & \\cdots & \\frac{\\partial^2 f}{\\partial x_1 \\partial x_n}\\\\\n",
    "\\vdots & \\ddots & \\vdots\\\\\n",
    "\\frac{\\partial^2 f}{\\partial x_n \\partial x_1} & \\cdots & \\frac{\\partial^2 f}{\\partial x_n^2}\n",
    "\\end{bmatrix}.\n",
    "$$\n",
    "\n",
    "**Taylor expansion (2nd order)**\n",
    "$$\n",
    "f(\\mathbf{x}+\\mathbf{h}) \\approx f(\\mathbf{x}) + \\nabla f(\\mathbf{x})^\\top \\mathbf{h}\n",
    "+ \\tfrac{1}{2}\\,\\mathbf{h}^\\top \\nabla^2 f(\\mathbf{x})\\, \\mathbf{h}.\n",
    "$$\n",
    "\n",
    "#### fraction\n",
    "- Basic: `$\\frac{a}{b}$` → $\\frac{a}{b}$\n",
    "- Display vs tight: `$\\dfrac{a}{b}$` (bigger), `$\\tfrac{a}{b}$` (smaller)\n",
    "- Binomial: `$\\binom{n}{k}$` → $\\binom{n}{k}$\n",
    "\n",
    "**Examples**\n",
    "$$\n",
    "\\frac{1}{1-x} = \\sum_{k=0}^{\\infty} x^k,\\qquad\n",
    "\\mathrm{KL}(p\\|q) = \\int p(x)\\,\\log\\!\\frac{p(x)}{q(x)}\\,dx.\n",
    "$$\n",
    "\n",
    "#### math character, superscript and Greek alphabet\n",
    "- Sets / number systems: `$\\mathbb{R}, \\mathbb{N}, \\mathbb{Z}, \\mathbb{Q}, \\mathbb{C}$` → $\\mathbb{R}, \\mathbb{N}, \\mathbb{Z}, \\mathbb{Q}, \\mathbb{C}$\n",
    "- Calligraphic / bold / typewriter: `$\\mathcal{L},\\ \\mathbf{A},\\ \\mathtt{code}$` → $\\mathcal{L},\\ \\mathbf{A},\\ \\mathtt{code}$\n",
    "- Relations & logic: `$\\le,\\ \\ge,\\ \\in,\\ \\notin,\\ \\subseteq,\\ \\forall,\\ \\exists,\\ \\implies,\\ \\iff$` → $\\le,\\ \\ge,\\ \\in,\\ \\notin,\\ \\subseteq,\\ \\forall,\\ \\exists,\\ \\implies,\\ \\iff$\n",
    "- Operators: `$\\cdot,\\ \\times,\\ \\circ,\\ \\nabla,\\ \\partial$` → $\\cdot,\\ \\times,\\ \\circ,\\ \\nabla,\\ \\partial$\n",
    "\n",
    "**Greek (common)**\n",
    "- Lowercase: `$\\alpha,\\beta,\\gamma,\\delta,\\epsilon$`\n",
    "  \n",
    "  → $\\alpha,\\beta,\\gamma,\\delta,\\epsilon$\n",
    "\n",
    "- Uppercase: `$\\Gamma,\\Delta,\\Theta$`\n",
    "  \n",
    "  → $\\Gamma,\\Delta,\\Theta$\n",
    "\n",
    "#### align environment\n",
    "Use `align` to line up at `&` and break lines with `\\\\`.  \n",
    "(If `align` doesn’t render in your setup, use `aligned` inside `$$ ... $$`.)\n",
    "\n",
    "**Example 1: multi-line derivation**\n",
    "\n",
    "$$\n",
    "\\begin{align}\n",
    "\\|A\\mathbf{x}-\\mathbf{b}\\|_2^2\n",
    "&= (A\\mathbf{x}-\\mathbf{b})^\\top(A\\mathbf{x}-\\mathbf{b}) \\\\\n",
    "&= \\mathbf{x}^\\top A^\\top A \\mathbf{x} - 2\\mathbf{b}^\\top A \\mathbf{x} + \\mathbf{b}^\\top\\mathbf{b}.\n",
    "\\end{align}\n",
    "$$\n",
    "\n",
    "$$\n",
    "\\begin{align}\n",
    "f(\\mathbf{x}) &= \\tfrac{1}{2}\\mathbf{x}^\\top Q\\,\\mathbf{x} - \\mathbf{c}^\\top \\mathbf{x} \\\\\n",
    "\\nabla f(\\mathbf{x}) &= Q\\,\\mathbf{x} - \\mathbf{c} \\\\\n",
    "\\nabla^2 f(\\mathbf{x}) &= Q.\n",
    "\\end{align}\n",
    "$$\n"
   ]
  },
  {
   "cell_type": "markdown",
   "id": "4b668bf6",
   "metadata": {},
   "source": [
    "\n",
    "## Python Basics: Variables & Types\n"
   ]
  },
  {
   "cell_type": "code",
   "execution_count": 3,
   "id": "3d034f68",
   "metadata": {},
   "outputs": [
    {
     "name": "stdout",
     "output_type": "stream",
     "text": [
      "42 <class 'int'>\n",
      "3.14159 <class 'float'>\n",
      "Ada <class 'str'>\n",
      "True <class 'bool'>\n"
     ]
    }
   ],
   "source": [
    "# Variables & basic types\n",
    "x = 42                 # int\n",
    "pi = 3.14159           # float\n",
    "name = \"Ada\"           # str\n",
    "is_valid = True        # bool\n",
    "\n",
    "print(x, type(x))\n",
    "print(pi, type(pi))\n",
    "print(name, type(name))\n",
    "print(is_valid, type(is_valid))"
   ]
  },
  {
   "cell_type": "markdown",
   "id": "538033b0",
   "metadata": {},
   "source": [
    "\n",
    "## Arithmetic & Strings\n"
   ]
  },
  {
   "cell_type": "code",
   "execution_count": 4,
   "id": "bb089d55",
   "metadata": {},
   "outputs": [
    {
     "name": "stdout",
     "output_type": "stream",
     "text": [
      "a+b = 10\n",
      "a-b = 4\n",
      "a*b = 21\n",
      "a/b = 2.3333333333333335\n",
      "a//b = 2\n",
      "a%b = 1\n",
      "a**b = 343\n",
      "JUPYTER jupyter Jup 7\n"
     ]
    }
   ],
   "source": [
    "# Arithmetic\n",
    "a, b = 7, 3\n",
    "print(\"a+b =\", a+b)\n",
    "print(\"a-b =\", a-b)\n",
    "print(\"a*b =\", a*b)\n",
    "print(\"a/b =\", a/b)      # float division\n",
    "print(\"a//b =\", a//b)    # integer division\n",
    "print(\"a%b =\", a%b)      # remainder\n",
    "print(\"a**b =\", a**b)    # power\n",
    "\n",
    "# Strings\n",
    "s = \"Jupyter\"\n",
    "print(s.upper(), s.lower(), s[:3], len(s))"
   ]
  },
  {
   "cell_type": "markdown",
   "id": "e1ec9a6f",
   "metadata": {},
   "source": [
    "\n",
    "## Lists & Slicing\n",
    "A **list** is an ordered, **mutable** sequence. Indexing starts at 0."
   ]
  },
  {
   "cell_type": "code",
   "execution_count": 5,
   "id": "ab421c0a",
   "metadata": {},
   "outputs": [
    {
     "name": "stdout",
     "output_type": "stream",
     "text": [
      "List: [2, 4, 6, 8, 10]\n",
      "First 3: [2, 4, 6]\n",
      "Last 2: [8, 10]\n",
      "Length: 5\n",
      "Appended: [2, 4, 6, 8, 10, 12]\n"
     ]
    }
   ],
   "source": [
    "nums = [2, 4, 6, 8, 10]\n",
    "print(\"List:\", nums)\n",
    "print(\"First 3:\", nums[:3])\n",
    "print(\"Last 2:\", nums[-2:])\n",
    "print(\"Length:\", len(nums))\n",
    "nums.append(12)\n",
    "print(\"Appended:\", nums)\n"
   ]
  },
  {
   "cell_type": "markdown",
   "id": "24a3f646",
   "metadata": {},
   "source": [
    "\n",
    "## Dictionaries\n",
    "A **dict** maps **keys → values**. Keys must be hashable/immutable (e.g., `str`, `int`, `tuple`).\n",
    "- Access: `person[\"name\"]`\n",
    "- Update/add: `person[\"role\"] = \"Mathematician\"`"
   ]
  },
  {
   "cell_type": "code",
   "execution_count": 6,
   "id": "427a84f3",
   "metadata": {},
   "outputs": [
    {
     "name": "stdout",
     "output_type": "stream",
     "text": [
      "{'name': 'Ada', 'role': 'Engineer', 'year': 1843}\n",
      "Ada\n",
      "{'name': 'Ada', 'role': 'Mathematician', 'year': 1843}\n"
     ]
    }
   ],
   "source": [
    "person = {\"name\": \"Ada\", \"role\": \"Engineer\", \"year\": 1843}\n",
    "print(person)\n",
    "print(person[\"name\"])\n",
    "person[\"role\"] = \"Mathematician\"\n",
    "print(person)"
   ]
  },
  {
   "cell_type": "markdown",
   "id": "982bc0bd",
   "metadata": {},
   "source": [
    "\n",
    "## Functions\n",
    "Python does **not** use curly braces `{}` to mark code blocks. Instead it uses a **colon `:` + indentation**.  \n",
    "Any header like `def`, `if`, `for`, `while`, or `class` ends with `:`, and the **indented lines below** belong to that block.\n"
   ]
  },
  {
   "cell_type": "code",
   "execution_count": 7,
   "id": "04438057",
   "metadata": {},
   "outputs": [
    {
     "name": "stdout",
     "output_type": "stream",
     "text": [
      "add(5, 6) = 11\n"
     ]
    }
   ],
   "source": [
    "def add(a, b):\n",
    "    \"\"\"Return the sum of a and b.\"\"\"\n",
    "    return a + b\n",
    "\n",
    "print(\"add(5, 6) =\", add(5, 6))"
   ]
  },
  {
   "cell_type": "markdown",
   "id": "5bb09e3b",
   "metadata": {},
   "source": [
    "\n",
    "## Loops & Conditionals\n"
   ]
  },
  {
   "cell_type": "code",
   "execution_count": 8,
   "id": "df56f400",
   "metadata": {},
   "outputs": [
    {
     "name": "stdout",
     "output_type": "stream",
     "text": [
      "1 is odd\n",
      "2 is even\n",
      "3 is odd\n",
      "4 is even\n",
      "5 is odd\n",
      "6 is even\n",
      "7 is odd\n"
     ]
    }
   ],
   "source": [
    "# For loop with a simple conditional\n",
    "for n in range(1, 8):\n",
    "    if n % 2 == 0:\n",
    "        print(n, \"is even\")\n",
    "    else:\n",
    "        print(n, \"is odd\")"
   ]
  },
  {
   "cell_type": "markdown",
   "id": "d69405d0",
   "metadata": {},
   "source": [
    "\n",
    "## Plotting \n"
   ]
  },
  {
   "cell_type": "code",
   "execution_count": 9,
   "id": "cd39134d",
   "metadata": {},
   "outputs": [
    {
     "data": {
      "image/png": "[encoded data removed]",
      "text/plain": [
       "<Figure size 640x480 with 1 Axes>"
      ]
     },
     "metadata": {},
     "output_type": "display_data"
    }
   ],
   "source": [
    "# A minimal plot using matplotlib\n",
    "import matplotlib.pyplot as plt\n",
    "\n",
    "x = list(range(11))\n",
    "y = [n**2 for n in x]\n",
    "\n",
    "plt.figure()\n",
    "plt.plot(x, y, marker='o')\n",
    "plt.title(\"Squares\")\n",
    "plt.xlabel(\"n\")\n",
    "plt.ylabel(\"n^2\")\n",
    "plt.show()"
   ]
  },
  {
   "cell_type": "markdown",
   "id": "a2140cbe",
   "metadata": {},
   "source": [
    "\n",
    "## Run, Restart, and Export\n",
    "\n",
    "- **Run All Cells:** from the **Cell** menu → **Run All**.\n",
    "- **Interrupt/Restart Kernel:** from the **Kernel** menu → **Interrupt** or **Restart** if code hangs.\n",
    "- **Rename:** click the notebook title at the top.\n",
    "- **Export:** **File → Download as →** HTML/Markdown/PDF (available in classic Notebook).\n"
   ]
  },
  {
   "cell_type": "markdown",
   "id": "bd4b788b",
   "metadata": {},
   "source": [
    "## Python Library -- Numpy\n",
    "\n",
    "**NumPy** is the fundamental package for efficient numerical computing in Python. It provides:\n",
    "- The **ndarray**: fast, contiguous, homogeneous N‑dimensional arrays\n",
    "- **Vectorized** operations (& broadcasting) for speed and clarity\n",
    "- A rich set of **linear algebra**, **random**, and **FFT** utilities\n",
    "\n",
    "This notebook covers the most useful day‑to‑day features you’ll use in data science, ML, and scientific computing."
   ]
  },
  {
   "cell_type": "code",
   "execution_count": 10,
   "id": "e937e10d",
   "metadata": {},
   "outputs": [
    {
     "name": "stdout",
     "output_type": "stream",
     "text": [
      "Python: 3.10.18\n",
      "NumPy: 2.2.6\n"
     ]
    }
   ],
   "source": [
    "import numpy as np\n",
    "import sys, platform\n",
    "\n",
    "print(\"Python:\", platform.python_version())\n",
    "print(\"NumPy:\", np.__version__)"
   ]
  },
  {
   "cell_type": "markdown",
   "id": "fcca0a55",
   "metadata": {},
   "source": [
    "\n",
    "## 1) Creating arrays\n",
    "\n",
    "You can build arrays from Python lists, or generate them with helpers like `arange`, `linspace`, `zeros`, `ones`, `full`, `eye`.\n"
   ]
  },
  {
   "cell_type": "code",
   "execution_count": 11,
   "id": "9a6133fa",
   "metadata": {},
   "outputs": [],
   "source": [
    "\n",
    "a = np.array([1, 2, 3], dtype=np.int64)\n",
    "b = np.arange(0, 10, 2)              # 0..8 step 2\n",
    "c = np.linspace(0.0, 1.0, 5)         # 5 points from 0 to 1 inclusive\n",
    "Z = np.zeros((2, 3))\n",
    "O = np.ones((2, 3))\n",
    "F = np.full((2, 3), 7.5)\n",
    "I = np.eye(3)\n"
   ]
  },
  {
   "cell_type": "markdown",
   "id": "28ae17d3",
   "metadata": {},
   "source": [
    "\n",
    "## 2) Dtypes (data types)\n",
    "\n",
    "NumPy arrays are **homogeneous** (one dtype). You can convert with `astype(...)`.\n"
   ]
  },
  {
   "cell_type": "code",
   "execution_count": 12,
   "id": "5ae631b6",
   "metadata": {},
   "outputs": [
    {
     "name": "stdout",
     "output_type": "stream",
     "text": [
      "int32 float64\n"
     ]
    }
   ],
   "source": [
    "x = np.array([1, 2, 3], dtype=np.int32)\n",
    "y = x.astype(np.float64)\n",
    "print(x.dtype, y.dtype)"
   ]
  },
  {
   "cell_type": "markdown",
   "id": "2e6b254d",
   "metadata": {},
   "source": [
    "\n",
    "## 3) Indexing & slicing\n",
    "\n",
    "- 0‑based indexing: `A[i, j]`\n",
    "- Slices are **views** (no copy) when possible.\n",
    "- Use `.copy()` if you need an independent array.\n"
   ]
  },
  {
   "cell_type": "code",
   "execution_count": 13,
   "id": "ce4be78c",
   "metadata": {},
   "outputs": [
    {
     "name": "stdout",
     "output_type": "stream",
     "text": [
      "A =\n",
      " [[ 0  1  2  3]\n",
      " [ 4  5  6  7]\n",
      " [ 8  9 10 11]]\n",
      "A[1, 2] = 6\n",
      "row1: [4 5 6 7]\n",
      "part:\n",
      " [[1 2]\n",
      " [5 6]]\n",
      "Modified A[0,0] -> 999\n",
      "B is unchanged (copy):\n",
      " [[0 1]\n",
      " [4 5]]\n"
     ]
    }
   ],
   "source": [
    "A = np.arange(12).reshape(3, 4)\n",
    "print(\"A =\\n\", A)\n",
    "\n",
    "print(\"A[1, 2] =\", A[1, 2])\n",
    "row1 = A[1]           # view of row 1\n",
    "part = A[:2, 1:3]     # view (top-left 2x2 from col 1..2)\n",
    "print(\"row1:\", row1)\n",
    "print(\"part:\\n\", part)\n",
    "\n",
    "B = A[:2, :2].copy()  # force a copy\n",
    "A[0, 0] = 999\n",
    "print(\"Modified A[0,0] ->\", A[0,0])\n",
    "print(\"B is unchanged (copy):\\n\", B)"
   ]
  },
  {
   "cell_type": "markdown",
   "id": "ad8b301a",
   "metadata": {},
   "source": [
    "\n",
    "## 4) Boolean masking & fancy indexing\n",
    "\n",
    "Boolean masks select elements matching a condition. Fancy indexing selects by index arrays.\n"
   ]
  },
  {
   "cell_type": "code",
   "execution_count": 14,
   "id": "37f04c86",
   "metadata": {},
   "outputs": [
    {
     "name": "stdout",
     "output_type": "stream",
     "text": [
      "mask: [ True False  True False False  True]\n",
      "positives: [3 2 8]\n",
      "fancy by idx: [3 2 8]\n"
     ]
    }
   ],
   "source": [
    "x = np.array([3, -1, 2, 0, -5, 8])\n",
    "mask = x > 0\n",
    "print(\"mask:\", mask)\n",
    "print(\"positives:\", x[mask])\n",
    "\n",
    "idx = np.array([0, 2, 5])\n",
    "print(\"fancy by idx:\", x[idx])"
   ]
  },
  {
   "cell_type": "markdown",
   "id": "55e3d0a7",
   "metadata": {},
   "source": [
    "\n",
    "## 5) Broadcasting & vectorization\n",
    "\n",
    "NumPy **broadcasts** shapes when compatible, enabling clean vectorized code (no Python loops).\n"
   ]
  },
  {
   "cell_type": "code",
   "execution_count": 15,
   "id": "f4ece706",
   "metadata": {},
   "outputs": [
    {
     "name": "stdout",
     "output_type": "stream",
     "text": [
      "x: [0 1 2 3 4]\n",
      "Z shape: (3, 5)\n",
      "standardized x: [-1.41421356 -0.70710678  0.          0.70710678  1.41421356]\n"
     ]
    }
   ],
   "source": [
    "x = np.arange(5)              # shape (5,)\n",
    "y = x * 10                    # scalar broadcast\n",
    "M = np.arange(15).reshape(3,5)\n",
    "Z = M + x                     # (3,5) + (5,) -> broadcast along rows\n",
    "print(\"x:\", x)\n",
    "print(\"Z shape:\", Z.shape)\n",
    "# Standardization example\n",
    "z = (x - x.mean()) / x.std()\n",
    "print(\"standardized x:\", z)"
   ]
  },
  {
   "cell_type": "markdown",
   "id": "4b093add",
   "metadata": {},
   "source": [
    "\n",
    "## 6) Aggregations and the `axis` argument\n",
    "\n",
    "`sum`, `mean`, `min`, `max`, `argmax`, etc. Use `axis` to aggregate along rows/columns.\n"
   ]
  },
  {
   "cell_type": "code",
   "execution_count": 16,
   "id": "94643dd0",
   "metadata": {},
   "outputs": [
    {
     "name": "stdout",
     "output_type": "stream",
     "text": [
      "M =\n",
      " [[ 0  1  2  3]\n",
      " [ 4  5  6  7]\n",
      " [ 8  9 10 11]]\n",
      "sum all: 66\n",
      "sum by rows (axis=1): [ 6 22 38]\n",
      "max by columns (axis=0): [ 8  9 10 11]\n",
      "argmax overall: 11\n"
     ]
    }
   ],
   "source": [
    "M = np.arange(12).reshape(3,4)\n",
    "print(\"M =\\n\", M)\n",
    "print(\"sum all:\", M.sum())\n",
    "print(\"sum by rows (axis=1):\", M.sum(axis=1))\n",
    "print(\"max by columns (axis=0):\", M.max(axis=0))\n",
    "print(\"argmax overall:\", M.argmax())"
   ]
  },
  {
   "cell_type": "markdown",
   "id": "11ea1c3a",
   "metadata": {},
   "source": [
    "\n",
    "## 7) Reshaping & views\n",
    "\n",
    "- `reshape` changes shape without copying when possible.  \n",
    "- `ravel()` returns a flattened **view** (when possible); `flatten()` always copies.  \n",
    "- `T` or `transpose(...)` swaps axes.\n"
   ]
  },
  {
   "cell_type": "code",
   "execution_count": 17,
   "id": "9d487d49",
   "metadata": {},
   "outputs": [
    {
     "name": "stdout",
     "output_type": "stream",
     "text": [
      "M shape: (4, 6)\n",
      "M.T shape: (6, 4)\n",
      "M after flat edit (view semantics may apply):\n",
      " [[-1  1  2  3  4  5]\n",
      " [ 6  7  8  9 10 11]\n",
      " [12 13 14 15 16 17]\n",
      " [18 19 20 21 22 23]]\n"
     ]
    }
   ],
   "source": [
    "R = np.arange(24)\n",
    "M = R.reshape(4,6)\n",
    "print(\"M shape:\", M.shape)\n",
    "print(\"M.T shape:\", M.T.shape)\n",
    "flat = M.ravel()\n",
    "flat[0] = -1                   # may reflect back if view\n",
    "print(\"M after flat edit (view semantics may apply):\\n\", M)"
   ]
  },
  {
   "cell_type": "markdown",
   "id": "941c9c91",
   "metadata": {},
   "source": [
    "\n",
    "## 8) Concatenation & stacking\n",
    "\n",
    "Use `np.concatenate`, `np.hstack`, `np.vstack`, or `np.column_stack`.\n"
   ]
  },
  {
   "cell_type": "code",
   "execution_count": 18,
   "id": "adb2ad78",
   "metadata": {},
   "outputs": [
    {
     "name": "stdout",
     "output_type": "stream",
     "text": [
      "hstack: [1 2 3 4 5 6]\n",
      "vstack:\n",
      " [[1 2 3]\n",
      " [4 5 6]]\n",
      "concatenate axis=0: [1 2 3 4 5 6]\n"
     ]
    }
   ],
   "source": [
    "a = np.array([1,2,3])\n",
    "b = np.array([4,5,6])\n",
    "print(\"hstack:\", np.hstack([a,b]))\n",
    "print(\"vstack:\\n\", np.vstack([a,b]))\n",
    "print(\"concatenate axis=0:\", np.concatenate([a,b], axis=0))"
   ]
  },
  {
   "cell_type": "markdown",
   "id": "929beafb",
   "metadata": {},
   "source": [
    "\n",
    "## 9) Random numbers (Generator API)\n",
    "\n",
    "Use `np.random.default_rng(seed)` for reproducible draws.\n"
   ]
  },
  {
   "cell_type": "code",
   "execution_count": 19,
   "id": "3b08f67e",
   "metadata": {},
   "outputs": [
    {
     "name": "stdout",
     "output_type": "stream",
     "text": [
      "uniform [0,1): [0.77395605 0.43887844 0.85859792]\n",
      "normal mean=0 sd=1: [ 0.94056472 -1.95103519 -1.30217951]\n",
      "choice without replacement: [7 6 5 8]\n"
     ]
    }
   ],
   "source": [
    "rng = np.random.default_rng(42)\n",
    "print(\"uniform [0,1):\", rng.random(3))\n",
    "print(\"normal mean=0 sd=1:\", rng.normal(size=3))\n",
    "print(\"choice without replacement:\", rng.choice(np.arange(10), size=4, replace=False))"
   ]
  },
  {
   "cell_type": "markdown",
   "id": "cb518aba",
   "metadata": {},
   "source": [
    "\n",
    "## 10) Linear algebra (selected)\n",
    "\n",
    "Matrix multiply `@` or `np.matmul`, dot products, solving linear systems, norms.\n"
   ]
  },
  {
   "cell_type": "code",
   "execution_count": 20,
   "id": "fdc110ff",
   "metadata": {},
   "outputs": [
    {
     "name": "stdout",
     "output_type": "stream",
     "text": [
      "solution x: [1. 2.]\n",
      "v @ w: 11.0\n",
      "A @ v: [7. 9.]\n",
      "2-norm of v: 2.23606797749979\n"
     ]
    }
   ],
   "source": [
    "A = np.array([[3.0, 2.0], [1.0, 4.0]])\n",
    "b = np.array([7.0, 9.0])\n",
    "\n",
    "x = np.linalg.solve(A, b)   # solve A x = b\n",
    "print(\"solution x:\", x)\n",
    "\n",
    "v = np.array([1.0, 2.0])\n",
    "w = np.array([3.0, 4.0])\n",
    "print(\"v @ w:\", v @ w)      # dot product\n",
    "print(\"A @ v:\", A @ v)      # matrix-vector\n",
    "\n",
    "print(\"2-norm of v:\", np.linalg.norm(v))"
   ]
  },
  {
   "cell_type": "markdown",
   "id": "a2aba406",
   "metadata": {},
   "source": [
    "\n",
    "## 11) Sorting & unique values\n"
   ]
  },
  {
   "cell_type": "code",
   "execution_count": 21,
   "id": "dd55332e",
   "metadata": {},
   "outputs": [
    {
     "name": "stdout",
     "output_type": "stream",
     "text": [
      "sorted: [1 2 2 3 7 7 9]\n",
      "argsort: [4 1 2 6 0 5 3]\n",
      "unique: [1 2 3 7 9]\n"
     ]
    }
   ],
   "source": [
    "x = np.array([7, 2, 2, 9, 1, 7, 3])\n",
    "print(\"sorted:\", np.sort(x))\n",
    "print(\"argsort:\", np.argsort(x))\n",
    "print(\"unique:\", np.unique(x))"
   ]
  },
  {
   "cell_type": "markdown",
   "id": "935621fa",
   "metadata": {},
   "source": [
    "\n",
    "## 12) NaNs and missing data\n",
    "\n",
    "Use `np.nan` and the nan‑aware reductions (`np.nanmean`, `np.nanstd`, ...).\n"
   ]
  },
  {
   "cell_type": "code",
   "execution_count": 22,
   "id": "46fc5046",
   "metadata": {},
   "outputs": [
    {
     "name": "stdout",
     "output_type": "stream",
     "text": [
      "mean (ignoring NaN): 2.6666666666666665\n",
      "valid values: [1. 3. 4.]\n"
     ]
    }
   ],
   "source": [
    "y = np.array([1.0, np.nan, 3.0, 4.0])\n",
    "print(\"mean (ignoring NaN):\", np.nanmean(y))\n",
    "mask = ~np.isnan(y)\n",
    "print(\"valid values:\", y[mask])"
   ]
  },
  {
   "cell_type": "markdown",
   "id": "aef29163",
   "metadata": {},
   "source": [
    "\n",
    "## 13) Performance: Python loops vs vectorization\n",
    "\n",
    "Vectorized NumPy code is typically faster and more expressive than Python loops.\n"
   ]
  },
  {
   "cell_type": "code",
   "execution_count": 23,
   "id": "e3c46b77",
   "metadata": {},
   "outputs": [
    {
     "name": "stdout",
     "output_type": "stream",
     "text": [
      "Python loop:\n",
      "5.35 ms ± 38.5 μs per loop (mean ± std. dev. of 7 runs, 100 loops each)\n",
      "NumPy vectorized:\n",
      "26.4 μs ± 477 ns per loop (mean ± std. dev. of 7 runs, 10,000 loops each)\n"
     ]
    }
   ],
   "source": [
    "# Timing a simple operation: sum of squares\n",
    "import numpy as np\n",
    "\n",
    "N = 1_000_00  # 100k\n",
    "arr = np.arange(N, dtype=np.float64)\n",
    "\n",
    "# Python loop\n",
    "def sumsq_py(a):\n",
    "    s = 0.0\n",
    "    for v in a:\n",
    "        s += v*v\n",
    "    return s\n",
    "\n",
    "# Vectorized\n",
    "def sumsq_np(a):\n",
    "    return (a*a).sum()\n",
    "\n",
    "print(\"Python loop:\")\n",
    "%timeit sumsq_py(arr)\n",
    "print(\"NumPy vectorized:\")\n",
    "%timeit sumsq_np(arr)"
   ]
  },
  {
   "cell_type": "markdown",
   "id": "4d66d6da",
   "metadata": {},
   "source": [
    "## Gym: environment to interact with\n",
    "\n",
    "Gym (and its modern fork Gymnasium) is a library of standard reinforcement-learning environments.\n",
    "It gives you a simple, consistent API to reset an environment, step with an action, and get back the observation, reward, and done flag. You use it to build, test, and compare RL algorithms on common tasks (e.g., CartPole, Pendulum)."
   ]
  },
  {
   "cell_type": "code",
   "execution_count": 24,
   "id": "dbac9b65",
   "metadata": {},
   "outputs": [],
   "source": [
    "import gymnasium as gym"
   ]
  },
  {
   "cell_type": "markdown",
   "id": "ce632668",
   "metadata": {},
   "source": [
    "\n",
    "### Create the environment\n",
    "\n",
    "We try to pass `render_mode=\"rgb_array\"` so that `env.render()` gives a NumPy image we can display in the notebook.\n",
    "Older Gym versions may not accept `render_mode`; we handle that gracefully.\n"
   ]
  },
  {
   "cell_type": "code",
   "execution_count": 25,
   "id": "a9e665bd",
   "metadata": {},
   "outputs": [
    {
     "name": "stdout",
     "output_type": "stream",
     "text": [
      "Env created. Initial observation: [ 0.6520163   0.758205   -0.46042657]\n"
     ]
    }
   ],
   "source": [
    "env = gym.make(\"Pendulum-v1\", render_mode=\"rgb_array\")\n",
    "obs, info = env.reset(seed=0)   # Gymnasium signature\n",
    "print(\"Env created. Initial observation:\", obs)"
   ]
  },
  {
   "cell_type": "markdown",
   "id": "c6e91b09",
   "metadata": {},
   "source": [
    "\n",
    "### Observation & action spaces (what are we controlling?)\n",
    "\n",
    "For `Pendulum-v1`:\n",
    "- Observation = 3 values: `[cos(θ), sin(θ), θ_dot]`\n",
    "- Action = 1‑D continuous torque (typically clipped to about **[-2, 2]**)\n",
    "- Goal = keep the pendulum **upright** with minimal torque\n"
   ]
  },
  {
   "cell_type": "code",
   "execution_count": 26,
   "id": "44ae89d1",
   "metadata": {},
   "outputs": [
    {
     "name": "stdout",
     "output_type": "stream",
     "text": [
      "Observation space: Box([-1. -1. -8.], [1. 1. 8.], (3,), float32)\n",
      "Action space: Box(-2.0, 2.0, (1,), float32)\n"
     ]
    }
   ],
   "source": [
    "print(\"Observation space:\", env.observation_space)\n",
    "print(\"Action space:\", env.action_space)"
   ]
  },
  {
   "cell_type": "markdown",
   "id": "5e7d898c",
   "metadata": {},
   "source": [
    "\n",
    "### Render a frame inside Jupyter\n",
    "\n",
    "If the environment supports `render_mode=\"rgb_array\"`, then `env.render()` returns a NumPy array (H×W×3).\n"
   ]
  },
  {
   "cell_type": "code",
   "execution_count": 27,
   "id": "897c0e84",
   "metadata": {},
   "outputs": [
    {
     "name": "stderr",
     "output_type": "stream",
     "text": [
      "/Users/haoyuhan/miniforge3/envs/2025ocrl/lib/python3.10/site-packages/pygame/pkgdata.py:25: UserWarning: pkg_resources is deprecated as an API. See https://setuptools.pypa.io/en/latest/pkg_resources.html. The pkg_resources package is slated for removal as early as 2025-11-30. Refrain from using this package or pin to Setuptools<81.\n",
      "  from pkg_resources import resource_stream, resource_exists\n"
     ]
    },
    {
     "data": {
      "image/png": "[encoded data removed]",
      "text/plain": [
       "<Figure size 640x480 with 1 Axes>"
      ]
     },
     "metadata": {},
     "output_type": "display_data"
    }
   ],
   "source": [
    "frame = None\n",
    "frame = env.render()\n",
    "\n",
    "plt.figure()\n",
    "plt.imshow(frame)\n",
    "plt.axis(\"off\")\n",
    "plt.title(\"Pendulum — initial frame\")\n",
    "plt.show()\n"
   ]
  },
  {
   "cell_type": "markdown",
   "id": "d3a1a951",
   "metadata": {},
   "source": [
    "\n",
    "### Take random step\n",
    "\n",
    "We sample a random torque, call `env.step(action)`, and normalize the different return formats:\n",
    "- Gymnasium: `(obs, reward, terminated, truncated, info)`\n",
    "- Classic Gym: `(obs, reward, done, info)`\n"
   ]
  },
  {
   "cell_type": "code",
   "execution_count": 28,
   "id": "48d5eb4d",
   "metadata": {},
   "outputs": [
    {
     "name": "stdout",
     "output_type": "stream",
     "text": [
      "Random rollout: steps=200, return=-979.5\n",
      "Saved GIF: pendulum_random.gif\n"
     ]
    }
   ],
   "source": [
    "# Re-seed & reset before rollout\n",
    "obs, info = env.reset(seed=42)   # Gymnasium\n",
    "\n",
    "\n",
    "total_return = 0.0\n",
    "frames = []\n",
    "\n",
    "for t in range(200):\n",
    "    a = env.action_space.sample()\n",
    "    step_out = env.step(a)\n",
    "\n",
    "    obs, reward, terminated, truncated, info = step_out\n",
    "    done = bool(terminated or truncated)\n",
    "\n",
    "\n",
    "    total_return += reward\n",
    "\n",
    "    # Capture a frame if supported\n",
    "\n",
    "    f = env.render()\n",
    "    if isinstance(f, np.ndarray):\n",
    "        frames.append(f)\n",
    "\n",
    "\n",
    "    if done:\n",
    "        break\n",
    "\n",
    "print(f\"Random rollout: steps={t+1}, return={total_return:.1f}\")\n",
    "\n",
    "# Save GIF if we have any frames\n",
    "\n",
    "import imageio\n",
    "if frames:\n",
    "    gif_path = \"pendulum_random.gif\"\n",
    "    imageio.mimsave(gif_path, frames, fps=30)\n",
    "    print(\"Saved GIF:\", gif_path)\n",
    "else:\n",
    "    print(\"No frames captured; GIF not saved (render_mode may not be supported).\")\n"
   ]
  }
 ],
 "metadata": {
  "kernelspec": {
   "display_name": "Python 3",
   "language": "python",
   "name": "python3"
  },
  "language_info": {
   "codemirror_mode": {
    "name": "ipython",
    "version": 3
   },
   "file_extension": ".py",
   "mimetype": "text/x-python",
   "name": "python",
   "nbconvert_exporter": "python",
   "pygments_lexer": "ipython3",
   "version": "3.10.18"
  }
 },
 "nbformat": 4,
 "nbformat_minor": 5
}
